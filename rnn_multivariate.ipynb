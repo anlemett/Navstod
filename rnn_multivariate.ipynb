{
 "cells": [
  {
   "cell_type": "code",
   "execution_count": 1,
   "id": "6729e91b",
   "metadata": {},
   "outputs": [],
   "source": [
    "#https://keras.io/examples/ -> Timeseries classification\n",
    "#https://keras.io/examples/timeseries/eeg_signal_classification/\n",
    "#https://towardsdatascience.com/time-series-analysis-on-multivariate-data-in-tensorflow-2f0591088502"
   ]
  },
  {
   "cell_type": "code",
   "execution_count": 2,
   "id": "c08d6dd7",
   "metadata": {},
   "outputs": [],
   "source": [
    "import warnings\n",
    "warnings.filterwarnings('ignore')\n",
    "\n",
    "import os\n",
    "\n",
    "#date = \"230324\"\n",
    "date = \"230517\"\n",
    "DATA_DIR = os.path.join(\"..\", date)\n",
    "\n",
    "import pandas as pd\n",
    "import numpy as np\n",
    "import math\n",
    "from statistics import mean\n",
    "import matplotlib.pyplot as plt\n",
    "from itertools import groupby\n",
    "\n",
    "import matplotlib.pyplot as plt\n",
    "\n",
    "import tensorflow as tf\n",
    "from tensorflow import keras\n",
    "from tensorflow.keras import layers\n",
    "\n",
    "from sklearn import preprocessing, model_selection"
   ]
  },
  {
   "cell_type": "code",
   "execution_count": 3,
   "id": "c8c4661a",
   "metadata": {},
   "outputs": [],
   "source": [
    "run_num = 1\n",
    "post_op = True\n",
    "#filename = \"Run_1_attention.xlsx\"\n",
    "if date == \"230324\":\n",
    "    filename = \"Run_\" + str(run_num) +\"_attention.xlsx\"\n",
    "elif date == \"230517\":\n",
    "    if run_num == 1:\n",
    "        filename = \"20230517T074332Z.xlsx\"\n",
    "    elif run_num == 2:\n",
    "        filename = \"20230517T084019Z.xlsx\"\n",
    "    else:\n",
    "        filename = \"20230517T100316Z.xlsx\"\n",
    "\n",
    "output_filename = \"av_metrics_\" + date + \"_run\" + str(run_num) + \".csv\"\n",
    "\n",
    "full_filename = os.path.join(DATA_DIR, filename)\n"
   ]
  },
  {
   "cell_type": "code",
   "execution_count": 4,
   "id": "2aacc7eb",
   "metadata": {},
   "outputs": [
    {
     "name": "stdout",
     "output_type": "stream",
     "text": [
      "   Recording timestamp  Computer timestamp Sensor Recording start time  \\\n",
      "0                    0                   0    NaN         09:43:32.124   \n",
      "\n",
      "   Recording duration Recording Fixation filter name           Event  \\\n",
      "0             2815701         Tobii I-VT (Attention)  RecordingStart   \n",
      "\n",
      "   Pupil diameter left  Pupil diameter right  Pupil diameter filtered  \\\n",
      "0                  NaN                   NaN                      NaN   \n",
      "\n",
      "  Eye movement type  Gaze event duration  Eye movement type index  \n",
      "0          Fixation                   97                        1  \n"
     ]
    }
   ],
   "source": [
    "df = pd.read_excel(full_filename)\n",
    "print(df.head(1))"
   ]
  },
  {
   "cell_type": "code",
   "execution_count": 5,
   "id": "5a678bcb",
   "metadata": {},
   "outputs": [],
   "source": [
    "if date == \"230324\":\n",
    "    if run_num == 1:\n",
    "        filename = \"Wl1_Friedrik_230324_093826.csv\"\n",
    "    else:\n",
    "        filename = \"Wl2_Fredrik_230324_112649.csv\"\n",
    "elif date == \"230517\":\n",
    "    if run_num == 1:\n",
    "        filename = \"Exp1_Fredrick_230517_084542.csv\"\n",
    "    elif run_num == 2:\n",
    "        filename = \"Exp2_Fredrick2_230517_094640.csv\"\n",
    "    else:\n",
    "        filename = \"Exp3_Fredrick_230517_111130.csv\"\n",
    "\n",
    "full_filename = os.path.join(DATA_DIR, filename)\n",
    "\n",
    "score_df = pd.read_csv(full_filename, sep=' ',index_col=False)\n",
    "#print(score_df.head(1))\n",
    "\n",
    "score_df['score'] = score_df['score'].replace([0], 10)\n",
    "\n",
    "all_scores = list(score_df['score'])\n",
    "if post_op:\n",
    "    all_scores_post_op = list(score_df['post_op_score'])"
   ]
  },
  {
   "cell_type": "code",
   "execution_count": 6,
   "id": "81aa5465",
   "metadata": {},
   "outputs": [],
   "source": [
    "sec_in_ms=0.000001\n",
    "timeIntervalDuration = 180 #sec\n",
    "\n",
    "def getTimeInterval(ms_num):\n",
    "\n",
    "    return math.ceil(ms_num*sec_in_ms/timeIntervalDuration)\n",
    "\n",
    "df = df.drop([0])\n",
    "#fill the null rows with the mean of respective columns\n",
    "df = df.fillna(df.mean())\n",
    "df['timeInterval'] = df.apply(lambda row: getTimeInterval(row['Computer timestamp']), axis=1)"
   ]
  },
  {
   "cell_type": "code",
   "execution_count": 7,
   "id": "8070fb67",
   "metadata": {},
   "outputs": [
    {
     "name": "stdout",
     "output_type": "stream",
     "text": [
      "   Recording timestamp  Computer timestamp       Sensor Recording start time  \\\n",
      "1                 7027                7027  Eye Tracker         09:43:32.124   \n",
      "2                27118               27118  Eye Tracker         09:43:32.124   \n",
      "3                47100               47100  Eye Tracker         09:43:32.124   \n",
      "4                67190               67190  Eye Tracker         09:43:32.124   \n",
      "5                87172               87172  Eye Tracker         09:43:32.124   \n",
      "\n",
      "   Recording duration Recording Fixation filter name Event  \\\n",
      "1             2815701         Tobii I-VT (Attention)   NaN   \n",
      "2             2815701         Tobii I-VT (Attention)   NaN   \n",
      "3             2815701         Tobii I-VT (Attention)   NaN   \n",
      "4             2815701         Tobii I-VT (Attention)   NaN   \n",
      "5             2815701         Tobii I-VT (Attention)   NaN   \n",
      "\n",
      "   Pupil diameter left  Pupil diameter right  Pupil diameter filtered  \\\n",
      "1                3.091                 3.131                    3.111   \n",
      "2                3.082                 3.131                    3.106   \n",
      "3                3.080                 3.097                    3.090   \n",
      "4                3.083                 3.099                    3.089   \n",
      "5                3.078                 3.094                    3.089   \n",
      "\n",
      "  Eye movement type  Gaze event duration  Eye movement type index  \\\n",
      "1          Fixation                   97                        1   \n",
      "2          Fixation                   97                        1   \n",
      "3          Fixation                   97                        1   \n",
      "4          Fixation                   97                        1   \n",
      "5          Fixation                   97                        1   \n",
      "\n",
      "   timeInterval  \n",
      "1             1  \n",
      "2             1  \n",
      "3             1  \n",
      "4             1  \n",
      "5             1  \n"
     ]
    }
   ],
   "source": [
    "print(df.head(5))"
   ]
  },
  {
   "cell_type": "code",
   "execution_count": 8,
   "id": "8890e4a1",
   "metadata": {},
   "outputs": [
    {
     "name": "stdout",
     "output_type": "stream",
     "text": [
      "2815701240\n",
      "16\n",
      "[1, 2, 3, 4, 5, 6, 7, 8, 9, 10, 11, 12, 13, 14, 15, 16]\n",
      "[9024, 9020, 9019, 9020, 9020, 9019, 9026, 9020, 9020, 9012, 9020, 9020, 9019, 9020, 9020, 5798]\n",
      "5798\n",
      "[5798, 5798, 5798, 5798, 5798, 5798, 5798, 5798, 5798, 5798, 5798, 5798, 5798, 5798, 5798, 5798]\n"
     ]
    }
   ],
   "source": [
    "last_timestamp = list(df['Computer timestamp'])[-1]\n",
    "print(last_timestamp)\n",
    "last_timeinterval = getTimeInterval(last_timestamp)\n",
    "print(last_timeinterval)\n",
    "\n",
    "diameters = []\n",
    "intervals = []\n",
    "num_of_values =[]\n",
    "\n",
    "for ti in range (1, last_timeinterval + 1):\n",
    "    ti_df = df[df['timeInterval']==ti]\n",
    "    ti_diams = ti_df['Pupil diameter filtered'].dropna().tolist()\n",
    "    diameters.append(ti_diams)\n",
    "    num_of_values.append(len(ti_diams))\n",
    "    intervals.append(ti)\n",
    "\n",
    "print(intervals)\n",
    "#print(diameters)\n",
    "print(num_of_values)\n",
    "min_num = min(num_of_values)\n",
    "print(min_num)\n",
    "\n",
    "new_num_of_values = []\n",
    "for i in range (0, last_timeinterval):\n",
    "    diameters[i] = diameters[i][-abs(min_num)::1]\n",
    "    new_num_of_values.append(len(diameters[i]))\n",
    "print(new_num_of_values)\n",
    "window_size = min_num"
   ]
  },
  {
   "cell_type": "code",
   "execution_count": 9,
   "id": "dd8a0827",
   "metadata": {},
   "outputs": [
    {
     "name": "stdout",
     "output_type": "stream",
     "text": [
      "15\n",
      "16\n",
      "14\n"
     ]
    }
   ],
   "source": [
    "print(len(all_scores))\n",
    "\n",
    "intervals_num = len(intervals)\n",
    "print(intervals_num)\n",
    "if len(all_scores) > intervals_num:\n",
    "    scores = all_scores[1:intervals_num+1]\n",
    "    if post_op:\n",
    "        scores_post_op = all_scores_post_op[1:intervals_num+1]\n",
    "else:\n",
    "    scores = all_scores[1:]\n",
    "    if post_op:\n",
    "        scores_post_op = all_scores_post_op[1:]\n",
    "print(len(scores))\n",
    "\n",
    "number_of_points = len(scores)\n",
    "\n",
    "intervals = intervals[0:number_of_points]\n",
    "diameters = diameters[0:number_of_points]"
   ]
  },
  {
   "cell_type": "code",
   "execution_count": 10,
   "id": "483cc47d",
   "metadata": {},
   "outputs": [
    {
     "name": "stdout",
     "output_type": "stream",
     "text": [
      "14\n"
     ]
    }
   ],
   "source": [
    "scaler = preprocessing.MinMaxScaler()\n",
    "series_list = [\n",
    "    scaler.fit_transform(np.asarray(i).reshape(-1, 1)) for i in diameters\n",
    "]\n",
    "print(len(series_list))\n",
    "\n",
    "le = preprocessing.LabelEncoder()  # Generates a look-up table\n",
    "le.fit(scores)\n",
    "scores = le.transform(scores)"
   ]
  },
  {
   "cell_type": "code",
   "execution_count": 11,
   "id": "015aadc2",
   "metadata": {},
   "outputs": [],
   "source": [
    "# for plotting in the end\n",
    "diams_df = pd.DataFrame(list(zip(diameters, scores)), columns =['diameters', 'score'])"
   ]
  },
  {
   "cell_type": "code",
   "execution_count": 12,
   "id": "46e917d7",
   "metadata": {},
   "outputs": [
    {
     "name": "stdout",
     "output_type": "stream",
     "text": [
      "4\n",
      "<class 'int'>\n"
     ]
    },
    {
     "data": {
      "image/png": "[encoded data removed]",
      "text/plain": [
       "<Figure size 640x480 with 1 Axes>"
      ]
     },
     "metadata": {},
     "output_type": "display_data"
    }
   ],
   "source": [
    "num_classes = len(set(scores))\n",
    "unique, counts = np.unique(scores, return_counts=True)\n",
    "print(num_classes)\n",
    "print(type(num_classes))\n",
    "plt.bar(range(num_classes), counts)\n",
    "plt.title(\"Number of samples per class\")\n",
    "plt.show()"
   ]
  },
  {
   "cell_type": "code",
   "execution_count": 13,
   "id": "88b1b069",
   "metadata": {},
   "outputs": [
    {
     "name": "stdout",
     "output_type": "stream",
     "text": [
      "14\n",
      "14\n",
      "Length of x_train : 11\n",
      "Length of x_test : 3\n",
      "Length of y_train : 11\n",
      "Length of y_test : 3\n"
     ]
    }
   ],
   "source": [
    "print(len(series_list))\n",
    "print(len(scores))\n",
    "x_train, x_test, y_train, y_test = model_selection.train_test_split(\n",
    "    series_list, scores, test_size=0.15, random_state=42, shuffle=True\n",
    ")\n",
    "\n",
    "print(\n",
    "    f\"Length of x_train : {len(x_train)}\\nLength of x_test : {len(x_test)}\\nLength of y_train : {len(y_train)}\\nLength of y_test : {len(y_test)}\"\n",
    ")\n",
    "\n",
    "x_train = np.asarray(x_train).astype(np.float32).reshape(-1, window_size, 1)\n",
    "y_train = np.asarray(y_train).astype(np.float32).reshape(-1, 1)\n",
    "y_train = keras.utils.to_categorical(y_train)\n",
    "\n",
    "x_test = np.asarray(x_test).astype(np.float32).reshape(-1, window_size, 1)\n",
    "y_test = np.asarray(y_test).astype(np.float32).reshape(-1, 1)\n",
    "y_test = keras.utils.to_categorical(y_test)"
   ]
  },
  {
   "cell_type": "code",
   "execution_count": 14,
   "id": "7c37dd58",
   "metadata": {},
   "outputs": [],
   "source": [
    "BATCH_SIZE = 64\n",
    "SHUFFLE_BUFFER_SIZE = BATCH_SIZE * 2\n",
    "\n",
    "train_dataset = tf.data.Dataset.from_tensor_slices((x_train, y_train))\n",
    "test_dataset = tf.data.Dataset.from_tensor_slices((x_test, y_test))\n",
    "\n",
    "train_dataset = train_dataset.shuffle(SHUFFLE_BUFFER_SIZE).batch(BATCH_SIZE)\n",
    "test_dataset = test_dataset.batch(BATCH_SIZE)"
   ]
  },
  {
   "cell_type": "code",
   "execution_count": 15,
   "id": "7634b4cd",
   "metadata": {},
   "outputs": [
    {
     "name": "stdout",
     "output_type": "stream",
     "text": [
      "{1: 0.7857142857142857, 0: 0.8571428571428572, 2: 0.5714285714285714, 3: 0.7857142857142857}\n"
     ]
    }
   ],
   "source": [
    "vals_dict = {}\n",
    "for i in scores:\n",
    "    if i in vals_dict.keys():\n",
    "        vals_dict[i] += 1\n",
    "    else:\n",
    "        vals_dict[i] = 1\n",
    "total = sum(vals_dict.values())\n",
    "\n",
    "# Formula used - Naive method where\n",
    "# weight = 1 - (no. of samples present / total no. of samples)\n",
    "# So more the samples, lower the weight\n",
    "\n",
    "weight_dict = {k: (1 - (v / total)) for k, v in vals_dict.items()}\n",
    "print(weight_dict)"
   ]
  },
  {
   "cell_type": "code",
   "execution_count": 16,
   "id": "aec774d1",
   "metadata": {},
   "outputs": [],
   "source": [
    "def plot_history_metrics(history: keras.callbacks.History):\n",
    "    total_plots = len(history.history)\n",
    "    cols = total_plots // 2\n",
    "\n",
    "    rows = total_plots // cols\n",
    "\n",
    "    if total_plots % cols != 0:\n",
    "        rows += 1\n",
    "\n",
    "    pos = range(1, total_plots + 1)\n",
    "    plt.figure(figsize=(15, 10))\n",
    "    for i, (key, value) in enumerate(history.history.items()):\n",
    "        plt.subplot(rows, cols, pos[i])\n",
    "        plt.plot(range(len(value)), value)\n",
    "        plt.title(str(key))\n",
    "    plt.show()"
   ]
  },
  {
   "cell_type": "code",
   "execution_count": 17,
   "id": "5786761a",
   "metadata": {},
   "outputs": [],
   "source": [
    "def create_model():\n",
    "    input_layer = keras.Input(shape=(window_size, 1))\n",
    "\n",
    "    x = layers.Conv1D(\n",
    "        filters=32, kernel_size=3, strides=2, activation=\"relu\", padding=\"same\"\n",
    "    )(input_layer)\n",
    "    x = layers.BatchNormalization()(x)\n",
    "\n",
    "    x = layers.Conv1D(\n",
    "        filters=64, kernel_size=3, strides=2, activation=\"relu\", padding=\"same\"\n",
    "    )(x)\n",
    "    x = layers.BatchNormalization()(x)\n",
    "\n",
    "    x = layers.Conv1D(\n",
    "        filters=128, kernel_size=5, strides=2, activation=\"relu\", padding=\"same\"\n",
    "    )(x)\n",
    "    x = layers.BatchNormalization()(x)\n",
    "\n",
    "    x = layers.Conv1D(\n",
    "        filters=256, kernel_size=5, strides=2, activation=\"relu\", padding=\"same\"\n",
    "    )(x)\n",
    "    x = layers.BatchNormalization()(x)\n",
    "\n",
    "    x = layers.Conv1D(\n",
    "        filters=512, kernel_size=7, strides=2, activation=\"relu\", padding=\"same\"\n",
    "    )(x)\n",
    "    x = layers.BatchNormalization()(x)\n",
    "\n",
    "    x = layers.Conv1D(\n",
    "        filters=1024, kernel_size=7, strides=2, activation=\"relu\", padding=\"same\"\n",
    "    )(x)\n",
    "    x = layers.BatchNormalization()(x)\n",
    "\n",
    "    x = layers.Dropout(0.2)(x)\n",
    "\n",
    "    x = layers.Flatten()(x)\n",
    "\n",
    "    x = layers.Dense(4096, activation=\"relu\")(x)\n",
    "    x = layers.Dropout(0.2)(x)\n",
    "\n",
    "    x = layers.Dense(\n",
    "        2048, activation=\"relu\", kernel_regularizer=keras.regularizers.L2()\n",
    "    )(x)\n",
    "    x = layers.Dropout(0.2)(x)\n",
    "\n",
    "    x = layers.Dense(\n",
    "        1024, activation=\"relu\", kernel_regularizer=keras.regularizers.L2()\n",
    "    )(x)\n",
    "    x = layers.Dropout(0.2)(x)\n",
    "    x = layers.Dense(\n",
    "        128, activation=\"relu\", kernel_regularizer=keras.regularizers.L2()\n",
    "    )(x)\n",
    "    output_layer = layers.Dense(num_classes, activation=\"softmax\")(x)\n",
    "\n",
    "    return keras.Model(inputs=input_layer, outputs=output_layer)"
   ]
  },
  {
   "cell_type": "code",
   "execution_count": 18,
   "id": "8e53ce64",
   "metadata": {},
   "outputs": [
    {
     "name": "stdout",
     "output_type": "stream",
     "text": [
      "Model: \"model\"\n",
      "_________________________________________________________________\n",
      " Layer (type)                Output Shape              Param #   \n",
      "=================================================================\n",
      " input_1 (InputLayer)        [(None, 5798, 1)]         0         \n",
      "                                                                 \n",
      " conv1d (Conv1D)             (None, 2899, 32)          128       \n",
      "                                                                 \n",
      " batch_normalization (Batch  (None, 2899, 32)          128       \n",
      " Normalization)                                                  \n",
      "                                                                 \n",
      " conv1d_1 (Conv1D)           (None, 1450, 64)          6208      \n",
      "                                                                 \n",
      " batch_normalization_1 (Bat  (None, 1450, 64)          256       \n",
      " chNormalization)                                                \n",
      "                                                                 \n",
      " conv1d_2 (Conv1D)           (None, 725, 128)          41088     \n",
      "                                                                 \n",
      " batch_normalization_2 (Bat  (None, 725, 128)          512       \n",
      " chNormalization)                                                \n",
      "                                                                 \n",
      " conv1d_3 (Conv1D)           (None, 363, 256)          164096    \n",
      "                                                                 \n",
      " batch_normalization_3 (Bat  (None, 363, 256)          1024      \n",
      " chNormalization)                                                \n",
      "                                                                 \n",
      " conv1d_4 (Conv1D)           (None, 182, 512)          918016    \n",
      "                                                                 \n",
      " batch_normalization_4 (Bat  (None, 182, 512)          2048      \n",
      " chNormalization)                                                \n",
      "                                                                 \n",
      " conv1d_5 (Conv1D)           (None, 91, 1024)          3671040   \n",
      "                                                                 \n",
      " batch_normalization_5 (Bat  (None, 91, 1024)          4096      \n",
      " chNormalization)                                                \n",
      "                                                                 \n",
      " dropout (Dropout)           (None, 91, 1024)          0         \n",
      "                                                                 \n",
      " flatten (Flatten)           (None, 93184)             0         \n",
      "                                                                 \n",
      " dense (Dense)               (None, 4096)              381685760 \n",
      "                                                                 \n",
      " dropout_1 (Dropout)         (None, 4096)              0         \n",
      "                                                                 \n",
      " dense_1 (Dense)             (None, 2048)              8390656   \n",
      "                                                                 \n",
      " dropout_2 (Dropout)         (None, 2048)              0         \n",
      "                                                                 \n",
      " dense_2 (Dense)             (None, 1024)              2098176   \n",
      "                                                                 \n",
      " dropout_3 (Dropout)         (None, 1024)              0         \n",
      "                                                                 \n",
      " dense_3 (Dense)             (None, 128)               131200    \n",
      "                                                                 \n",
      " dense_4 (Dense)             (None, 4)                 516       \n",
      "                                                                 \n",
      "=================================================================\n",
      "Total params: 397114948 (1.48 GB)\n",
      "Trainable params: 397110916 (1.48 GB)\n",
      "Non-trainable params: 4032 (15.75 KB)\n",
      "_________________________________________________________________\n",
      "None\n"
     ]
    }
   ],
   "source": [
    "conv_model = create_model()\n",
    "\n",
    "print(conv_model.summary())"
   ]
  },
  {
   "cell_type": "code",
   "execution_count": 19,
   "id": "23b56766",
   "metadata": {},
   "outputs": [],
   "source": [
    "epochs = 30\n",
    "\n",
    "callbacks = [\n",
    "    keras.callbacks.ModelCheckpoint(\n",
    "        \"best_model.h5\", save_best_only=True, monitor=\"loss\"\n",
    "    ),\n",
    "    keras.callbacks.ReduceLROnPlateau(\n",
    "        monitor=\"val_top_k_categorical_accuracy\",\n",
    "        factor=0.2,\n",
    "        patience=2,\n",
    "        min_lr=0.000001,\n",
    "    ),\n",
    "]\n",
    "\n",
    "optimizer = keras.optimizers.Adam(amsgrad=True, learning_rate=0.001)\n",
    "loss = keras.losses.CategoricalCrossentropy()"
   ]
  },
  {
   "cell_type": "code",
   "execution_count": null,
   "id": "681880b0",
   "metadata": {},
   "outputs": [
    {
     "name": "stdout",
     "output_type": "stream",
     "text": [
      "Epoch 1/30\n",
      "1/1 [==============================] - 24s 24s/step - loss: 45.0935 - top_k_categorical_accuracy: 0.7273 - auc: 0.3981 - precision: 0.1000 - recall: 0.0909 - val_loss: 43.5685 - val_top_k_categorical_accuracy: 0.6667 - val_auc: 0.4074 - val_precision: 0.0000e+00 - val_recall: 0.0000e+00 - lr: 0.0010\n",
      "Epoch 2/30\n",
      "1/1 [==============================] - 4s 4s/step - loss: 62.6396 - top_k_categorical_accuracy: 0.9091 - auc: 0.6970 - precision: 0.5455 - recall: 0.5455 - val_loss: 42.7870 - val_top_k_categorical_accuracy: 0.6667 - val_auc: 0.5556 - val_precision: 0.0000e+00 - val_recall: 0.0000e+00 - lr: 0.0010\n",
      "Epoch 3/30\n",
      "1/1 [==============================] - 4s 4s/step - loss: 57.1187 - top_k_categorical_accuracy: 0.9091 - auc: 0.5565 - precision: 0.3636 - recall: 0.3636 - val_loss: 42.3722 - val_top_k_categorical_accuracy: 0.6667 - val_auc: 0.4815 - val_precision: 0.0000e+00 - val_recall: 0.0000e+00 - lr: 0.0010\n",
      "Epoch 4/30\n",
      "1/1 [==============================] - 31s 31s/step - loss: 44.4427 - top_k_categorical_accuracy: 0.9091 - auc: 0.8567 - precision: 0.6364 - recall: 0.6364 - val_loss: 42.4080 - val_top_k_categorical_accuracy: 0.6667 - val_auc: 0.3889 - val_precision: 0.0000e+00 - val_recall: 0.0000e+00 - lr: 2.0000e-04\n",
      "Epoch 5/30\n",
      "1/1 [==============================] - 3s 3s/step - loss: 46.7988 - top_k_categorical_accuracy: 0.9091 - auc: 0.8595 - precision: 0.7273 - recall: 0.7273 - val_loss: 42.3863 - val_top_k_categorical_accuracy: 0.6667 - val_auc: 0.3519 - val_precision: 0.0000e+00 - val_recall: 0.0000e+00 - lr: 2.0000e-04\n",
      "Epoch 6/30\n",
      "1/1 [==============================] - 19s 19s/step - loss: 42.1080 - top_k_categorical_accuracy: 1.0000 - auc: 0.9339 - precision: 0.8182 - recall: 0.8182 - val_loss: 42.4554 - val_top_k_categorical_accuracy: 0.6667 - val_auc: 0.3519 - val_precision: 0.0000e+00 - val_recall: 0.0000e+00 - lr: 4.0000e-05\n",
      "Epoch 7/30\n",
      "1/1 [==============================] - 34s 34s/step - loss: 41.4003 - top_k_categorical_accuracy: 1.0000 - auc: 0.9394 - precision: 0.9091 - recall: 0.9091 - val_loss: 42.5298 - val_top_k_categorical_accuracy: 0.6667 - val_auc: 0.3333 - val_precision: 0.0000e+00 - val_recall: 0.0000e+00 - lr: 4.0000e-05\n",
      "Epoch 8/30\n",
      "1/1 [==============================] - 20s 20s/step - loss: 40.3574 - top_k_categorical_accuracy: 1.0000 - auc: 1.0000 - precision: 1.0000 - recall: 1.0000 - val_loss: 42.6607 - val_top_k_categorical_accuracy: 0.6667 - val_auc: 0.3333 - val_precision: 0.0000e+00 - val_recall: 0.0000e+00 - lr: 8.0000e-06\n",
      "Epoch 9/30\n",
      "1/1 [==============================] - 19s 19s/step - loss: 40.3458 - top_k_categorical_accuracy: 1.0000 - auc: 1.0000 - precision: 1.0000 - recall: 1.0000 - val_loss: 42.8025 - val_top_k_categorical_accuracy: 0.6667 - val_auc: 0.3519 - val_precision: 0.0000e+00 - val_recall: 0.0000e+00 - lr: 8.0000e-06\n",
      "Epoch 10/30\n",
      "1/1 [==============================] - 19s 19s/step - loss: 40.3399 - top_k_categorical_accuracy: 1.0000 - auc: 1.0000 - precision: 1.0000 - recall: 1.0000 - val_loss: 42.9603 - val_top_k_categorical_accuracy: 0.6667 - val_auc: 0.3333 - val_precision: 0.0000e+00 - val_recall: 0.0000e+00 - lr: 1.6000e-06\n",
      "Epoch 11/30\n",
      "1/1 [==============================] - 20s 20s/step - loss: 40.3387 - top_k_categorical_accuracy: 1.0000 - auc: 1.0000 - precision: 1.0000 - recall: 1.0000 - val_loss: 43.1239 - val_top_k_categorical_accuracy: 0.6667 - val_auc: 0.2778 - val_precision: 0.0000e+00 - val_recall: 0.0000e+00 - lr: 1.6000e-06\n",
      "Epoch 12/30\n",
      "1/1 [==============================] - 19s 19s/step - loss: 40.3374 - top_k_categorical_accuracy: 1.0000 - auc: 1.0000 - precision: 1.0000 - recall: 1.0000 - val_loss: 43.2940 - val_top_k_categorical_accuracy: 0.6667 - val_auc: 0.3333 - val_precision: 0.0000e+00 - val_recall: 0.0000e+00 - lr: 1.0000e-06\n",
      "Epoch 13/30\n",
      "1/1 [==============================] - 19s 19s/step - loss: 40.3371 - top_k_categorical_accuracy: 1.0000 - auc: 1.0000 - precision: 1.0000 - recall: 1.0000 - val_loss: 43.4686 - val_top_k_categorical_accuracy: 0.6667 - val_auc: 0.3333 - val_precision: 0.0000e+00 - val_recall: 0.0000e+00 - lr: 1.0000e-06\n",
      "Epoch 14/30\n",
      "1/1 [==============================] - 20s 20s/step - loss: 40.3361 - top_k_categorical_accuracy: 1.0000 - auc: 1.0000 - precision: 1.0000 - recall: 1.0000 - val_loss: 43.6468 - val_top_k_categorical_accuracy: 0.6667 - val_auc: 0.2963 - val_precision: 0.0000e+00 - val_recall: 0.0000e+00 - lr: 1.0000e-06\n",
      "Epoch 15/30\n",
      "1/1 [==============================] - 19s 19s/step - loss: 40.3350 - top_k_categorical_accuracy: 1.0000 - auc: 1.0000 - precision: 1.0000 - recall: 1.0000 - val_loss: 43.8272 - val_top_k_categorical_accuracy: 0.6667 - val_auc: 0.3704 - val_precision: 0.0000e+00 - val_recall: 0.0000e+00 - lr: 1.0000e-06\n",
      "Epoch 16/30\n",
      "1/1 [==============================] - 19s 19s/step - loss: 40.3341 - top_k_categorical_accuracy: 1.0000 - auc: 1.0000 - precision: 1.0000 - recall: 1.0000 - val_loss: 44.0095 - val_top_k_categorical_accuracy: 0.6667 - val_auc: 0.2963 - val_precision: 0.0000e+00 - val_recall: 0.0000e+00 - lr: 1.0000e-06\n",
      "Epoch 17/30\n",
      "1/1 [==============================] - ETA: 0s - loss: 40.3333 - top_k_categorical_accuracy: 1.0000 - auc: 1.0000 - precision: 1.0000 - recall: 1.0000"
     ]
    }
   ],
   "source": [
    "conv_model.compile(\n",
    "    optimizer=optimizer,\n",
    "    loss=loss,\n",
    "    metrics=[\n",
    "        keras.metrics.TopKCategoricalAccuracy(k=3),\n",
    "        keras.metrics.AUC(),\n",
    "        keras.metrics.Precision(),\n",
    "        keras.metrics.Recall(),\n",
    "    ],\n",
    ")\n",
    "\n",
    "conv_model_history = conv_model.fit(\n",
    "    train_dataset,\n",
    "    epochs=epochs,\n",
    "    callbacks=callbacks,\n",
    "    validation_data=test_dataset,\n",
    "    class_weight=weight_dict,\n",
    ")"
   ]
  },
  {
   "cell_type": "code",
   "execution_count": null,
   "id": "fdb00ac0",
   "metadata": {},
   "outputs": [],
   "source": [
    "plot_history_metrics(conv_model_history)"
   ]
  },
  {
   "cell_type": "code",
   "execution_count": null,
   "id": "917741b2",
   "metadata": {},
   "outputs": [],
   "source": [
    "loss, accuracy, auc, precision, recall = conv_model.evaluate(test_dataset)\n",
    "print(f\"Loss : {loss}\")\n",
    "print(f\"Top 3 Categorical Accuracy : {accuracy}\")\n",
    "print(f\"Area under the Curve (ROC) : {auc}\")\n",
    "print(f\"Precision : {precision}\")\n",
    "print(f\"Recall : {recall}\")"
   ]
  },
  {
   "cell_type": "code",
   "execution_count": null,
   "id": "996bf902",
   "metadata": {},
   "outputs": [],
   "source": [
    "def view_evaluated_diameters_plots(model):\n",
    "    start_index = 0\n",
    "    end_index = number_of_points\n",
    "    data = diams_df.loc[start_index:end_index, \"diameters\"]\n",
    "    data_array = [scaler.fit_transform(np.asarray(i).reshape(-1, 1)) for i in data]\n",
    "    data_array = [np.asarray(data_array).astype(np.float32).reshape(-1, window_size, 1)]\n",
    "    original_labels = diams_df.loc[start_index:end_index, \"score\"]\n",
    "    predicted_labels = np.argmax(model.predict(data_array, verbose=0), axis=1)\n",
    "    original_labels = [\n",
    "        le.inverse_transform(np.array(label).reshape(-1))[0]\n",
    "        for label in original_labels\n",
    "    ]\n",
    "    predicted_labels = [\n",
    "        le.inverse_transform(np.array(label).reshape(-1))[0]\n",
    "        for label in predicted_labels\n",
    "    ]\n",
    "    total_plots = number_of_points\n",
    "    cols = total_plots // 3\n",
    "    rows = total_plots // cols\n",
    "    if total_plots % cols != 0:\n",
    "        rows += 1\n",
    "    pos = range(1, total_plots + 1)\n",
    "    fig = plt.figure(figsize=(20, 10))\n",
    "    for i, (plot_data, og_label, pred_label) in enumerate(\n",
    "        zip(data, original_labels, predicted_labels)\n",
    "    ):\n",
    "        plt.subplot(rows, cols, pos[i])\n",
    "        plt.plot(plot_data)\n",
    "        plt.title(f\"Actual Label : {og_label}\\nPredicted Label : {pred_label}\")\n",
    "        fig.subplots_adjust(hspace=0.5)\n",
    "    plt.show()\n",
    "\n",
    "\n",
    "view_evaluated_diameters_plots(conv_model)"
   ]
  },
  {
   "cell_type": "code",
   "execution_count": null,
   "id": "2b02137b",
   "metadata": {},
   "outputs": [],
   "source": []
  }
 ],
 "metadata": {
  "kernelspec": {
   "display_name": "Python 3 (ipykernel)",
   "language": "python",
   "name": "python3"
  },
  "language_info": {
   "codemirror_mode": {
    "name": "ipython",
    "version": 3
   },
   "file_extension": ".py",
   "mimetype": "text/x-python",
   "name": "python",
   "nbconvert_exporter": "python",
   "pygments_lexer": "ipython3",
   "version": "3.9.12"
  }
 },
 "nbformat": 4,
 "nbformat_minor": 5
}
